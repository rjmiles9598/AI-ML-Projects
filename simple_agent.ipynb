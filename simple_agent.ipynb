{
 "cells": [
  {
   "cell_type": "markdown",
   "id": "74c4d34e",
   "metadata": {},
   "source": [
    "This is an example of a simple Agent"
   ]
  },
  {
   "cell_type": "markdown",
   "id": "a90e3d13",
   "metadata": {},
   "source": [
    "The task will be: Create an abstraction on top of LLM's that is adaptable and efficient"
   ]
  },
  {
   "cell_type": "markdown",
   "id": "7e1955a6",
   "metadata": {},
   "source": [
    "Import the necessary libraries"
   ]
  },
  {
   "cell_type": "code",
   "execution_count": null,
   "id": "ed74cb4f",
   "metadata": {},
   "outputs": [],
   "source": [
    "from dotenv import load_dotenv\n",
    "import os\n",
    "load_dotenv()"
   ]
  },
  {
   "cell_type": "code",
   "execution_count": null,
   "id": "705003ab",
   "metadata": {},
   "outputs": [],
   "source": [
    "from openai import OpenAI\n",
    "client = OpenAI()"
   ]
  },
  {
   "cell_type": "code",
   "execution_count": null,
   "id": "bf968681",
   "metadata": {},
   "outputs": [],
   "source": [
    "temperature = 0.3"
   ]
  },
  {
   "cell_type": "code",
   "execution_count": null,
   "id": "bf5d915c",
   "metadata": {},
   "outputs": [],
   "source": [
    "system_prompt = \"act as a senior python programmer. You dont know anything about other programming languages so do not provide answers about languages asked that do not concern python\"\n",
    "user_question = \"what is the java virtual machine?\""
   ]
  },
  {
   "cell_type": "code",
   "execution_count": null,
   "id": "e4105656",
   "metadata": {},
   "outputs": [],
   "source": [
    "response = client.chat.completions.create(\n",
    "                model=\"gpt-4o-mini\",\n",
    "                messages=[\n",
    "                    {\"role\": \"system\", \"content\": system_prompt},\n",
    "                    {\"role\": \"user\", \"content\": user_question},\n",
    "                ],\n",
    "                temperature=temperature,\n",
    "        )\n",
    "response.choices[0].message.content"
   ]
  },
  {
   "cell_type": "markdown",
   "id": "3dd89ec3",
   "metadata": {},
   "source": [
    "2. Define the Agent Class\n",
    "\n",
    "Here we will create the foundational structure of an AI agent that can process user inputs and generate responses using a language model. This is the first step in designing and interactive agent, and we will focus on defining its critical components\n",
    "\n",
    "Objective: \n",
    "\n",
    "Implement an agent that can use:\n",
    "\n",
    "    -Be initialized with configurable settings, including a name, role, instructions, and model parameters.\n",
    "    -Send user messages to a langage model, ensuring that the response aligns with the given role and instructions\n",
    "    -Return the AI generated response as a string\n",
    "\n",
    "Steps:\n",
    "\n",
    "    -Create a constructor that allows customization of the agents name, role, and instructions.\n",
    "    -Ensure the agent interacts with a language model, passing the user message along with system instructions.\n",
    "    -Implement a method to handle message processing, ensuring the response is retrieved correctly\n",
    "\n",
    "Considerations:\n",
    "\n",
    "    -The role and instructions should guide the agents behavior in generating responses.\n",
    "    -The model's parameters (like temperature) should be configurable\n",
    "    -Ensure the agent maintains simplicity while providing a structured response\n",
    "\n",
    "Constructor\n",
    "\n",
    "First of all, create a class called agent with the following parameters in the __init__ method\n",
    "\n",
    "    -name (default: \"agent\")\n",
    "    -role (default: Personal Assistant)\n",
    "    -instructions (default: Help users with any questions)\n",
    "    -model (default: gpt-4o-mini)\n",
    "    -temperature (default:0.0)\n",
    "\n",
    "It's recommended having the client be accessible inside your agent\n",
    "\n",
    "Invoke\n",
    "\n",
    "Most agentic frameworks out there provide an invoke() method. for compatibilities reason, we will do the same. The method should:\n",
    "\n",
    "    -take a message as input\n",
    "    -send the message to the LLM's API using the specified model and temerature\n",
    "    -format the API request with the system role and user input\n",
    "    -return the LLM's response\n",
    "\n",
    "Notice that your system prompt must consider role and instructions, otherwise it will not behave as you like"
   ]
  },
  {
   "cell_type": "code",
   "execution_count": null,
   "id": "e59add26",
   "metadata": {},
   "outputs": [],
   "source": [
    "class Agent:\n",
    "    def __init__(\n",
    "        self,\n",
    "        name:str = \"Agent\",\n",
    "        role:str = \"Personal Assistant\",\n",
    "        instructions:str = \"Help users with any question\",\n",
    "        model:str = \"gpt-4o-mini\",\n",
    "        temperature:float = 0.0,\n",
    "    ):\n",
    "        self.name = name\n",
    "        self.role = role\n",
    "        self.instructions = instructions\n",
    "        self.model = model\n",
    "        self.temperature = temperature\n",
    "\n",
    "        self.client = OpenAI()\n",
    "\n",
    "    def invoke(self, message: str) -> str:\n",
    "        response = self.client.chat.completions.create(\n",
    "            model = self.model,\n",
    "            temperature = self.temperature,\n",
    "            messages = [\n",
    "                {\n",
    "                    \"role\": \"system\",\n",
    "                    \"content\": f\"You're an AI agent, your role is {self.role}, \"\n",
    "                               f\"and you need to {self.instructions}\",\n",
    "                },\n",
    "                {\n",
    "                    \"role\": \"user\",\n",
    "                    \"content\": message,\n",
    "                }\n",
    "            ]\n",
    "        )\n",
    "        return response.choices[0].message.content\n"
   ]
  },
  {
   "cell_type": "markdown",
   "id": "c547443a",
   "metadata": {},
   "source": [
    "3) Lets build our agents now and experiment"
   ]
  },
  {
   "cell_type": "code",
   "execution_count": null,
   "id": "cea71fd8",
   "metadata": {},
   "outputs": [],
   "source": [
    "agent = Agent()\n",
    "response = agent.invoke(\"what is the capital of France?\")\n",
    "print(\"Agent role:\", agent.role)\n",
    "print(\"Default Agent Response:\", response)"
   ]
  },
  {
   "cell_type": "code",
   "execution_count": null,
   "id": "974f9804",
   "metadata": {},
   "outputs": [],
   "source": [
    "travel_agent = Agent(\n",
    "    role=\"Travel Assistant\",\n",
    "    instructions=\"provide travel recommendations for Asia.\",\n",
    "    temperature=0.2\n",
    ")\n",
    "travel_response = agent.invoke(\"where are some good places to visit in northern asia?\")\n",
    "print(\"Agent Role:\", travel_agent.role)\n",
    "print(\"Travel Agent Response:\", travel_response)"
   ]
  },
  {
   "cell_type": "code",
   "execution_count": null,
   "id": "b3333997",
   "metadata": {},
   "outputs": [],
   "source": [
    "math_tutor = Agent(\n",
    "    role=\"Math Tutor\",\n",
    "    instructions=\"Help with answering math questions.\",\n",
    "    temperature=0.2\n",
    ")\n",
    "math_response = agent.invoke(\"please explain to me how non-linear dynamics works. How can you model predator and prey populations using non-linear dynamics?\")\n",
    "print(\"Agent Role:\", math_tutor.role)\n",
    "print(\"Math Response:\", math_response)"
   ]
  },
  {
   "cell_type": "code",
   "execution_count": null,
   "id": "b6326b7b",
   "metadata": {},
   "outputs": [],
   "source": [
    "relationship_therapist = Agent(\n",
    "    role=\"relationship_therapist\",\n",
    "    instructions=\"Help out with how to be in a healthy relationship\",\n",
    "    temperature=0.5\n",
    ")\n",
    "therapy_response = agent.invoke(\"Please give me 5 things that a couple should agree on to lay a foundation for long-term relationship success.\")\n",
    "print(\"Agent Role:\", relationship_therapist.role)\n",
    "print(\"Math Response:\", therapy_response)"
   ]
  }
 ],
 "metadata": {
  "kernelspec": {
   "display_name": ".venv",
   "language": "python",
   "name": "python3"
  },
  "language_info": {
   "codemirror_mode": {
    "name": "ipython",
    "version": 3
   },
   "file_extension": ".py",
   "mimetype": "text/x-python",
   "name": "python",
   "nbconvert_exporter": "python",
   "pygments_lexer": "ipython3",
   "version": "3.13.3"
  }
 },
 "nbformat": 4,
 "nbformat_minor": 5
}
