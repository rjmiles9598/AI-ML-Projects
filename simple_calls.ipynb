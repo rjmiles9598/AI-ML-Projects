{
 "cells": [
  {
   "cell_type": "markdown",
   "id": "6bacb5ce",
   "metadata": {},
   "source": []
  },
  {
   "cell_type": "code",
   "execution_count": null,
   "id": "8b5f7239",
   "metadata": {},
   "outputs": [],
   "source": [
    "pip install dotenv"
   ]
  },
  {
   "cell_type": "code",
   "execution_count": null,
   "id": "6324e646",
   "metadata": {},
   "outputs": [],
   "source": [
    "from dotenv import load_dotenv\n",
    "load_dotenv()"
   ]
  },
  {
   "cell_type": "code",
   "execution_count": null,
   "id": "edf78c9d",
   "metadata": {},
   "outputs": [],
   "source": [
    "from openai import OpenAI\n",
    "client = OpenAI()"
   ]
  },
  {
   "cell_type": "code",
   "execution_count": null,
   "id": "44a040fd",
   "metadata": {},
   "outputs": [],
   "source": [
    "model = \"gpt-4o-mini\""
   ]
  },
  {
   "cell_type": "markdown",
   "id": "94715ed6",
   "metadata": {},
   "source": [
    "Pick a temperature \n",
    "Low Temperature (0 - 0.3): The model is very deterministic. It favors the highest probability tokens at each step. The output is predictable, safe, and repetitive"
   ]
  },
  {
   "cell_type": "code",
   "execution_count": null,
   "id": "d256bbbb",
   "metadata": {},
   "outputs": [],
   "source": [
    "temperature = 1.4"
   ]
  },
  {
   "cell_type": "markdown",
   "id": "70094aa8",
   "metadata": {},
   "source": [
    "Tell the model how to behave"
   ]
  },
  {
   "cell_type": "code",
   "execution_count": null,
   "id": "3d94dad4",
   "metadata": {},
   "outputs": [],
   "source": [
    "system_prompt = \"\"\"Act like a CEO of the 2 most profitable company on the planet. Provide email responses to a brand new hire who is in the sales organization\n",
    "of this company called SimLabs.\"\"\""
   ]
  },
  {
   "cell_type": "markdown",
   "id": "c1fa65cb",
   "metadata": {},
   "source": [
    "Create a function to reuse LLM calls\n",
    "Once you have all the parameters, you need to accept the user input to send to OpenAI API.\n",
    "\n",
    "To accept it, add a new element to the messages list inside the create_content function. Its a dictionary similar to the first element, but this time the role is user\n",
    "\n",
    "The structure is the following\n",
    "\n",
    "response = client.chat.completions.create(\n",
    "    model=\"gpt-4o-mini\",\n",
    "    messages=[\n",
    "        {\"role\": \"system\", \"content\": system_prompt},\n",
    "        {\"role\": \"user\", \"content\": query},\n",
    "    ],\n",
    "    temperature=0.9\n",
    ")\n",
    "print(response.choices[0].message.content)"
   ]
  },
  {
   "cell_type": "code",
   "execution_count": null,
   "id": "6478fcfd",
   "metadata": {},
   "outputs": [],
   "source": [
    "def create_content(query:str,\n",
    "                   client:OpenAI,\n",
    "                   system_prompt:str,\n",
    "                   model:str,\n",
    "                   temperature:float)->str:\n",
    "        messages = [\n",
    "                {\"role\": \"system\", \"content\": system_prompt},\n",
    "                {\"role\": \"user\", \"content\": query},\n",
    "        ]\n",
    "        response = client.chat.completions.create(\n",
    "                model=model,\n",
    "                messages=messages,\n",
    "                temperature=temperature,\n",
    "        )\n",
    "\n",
    "        content = response.choices[0].message.content\n",
    "\n",
    "        return content"
   ]
  },
  {
   "cell_type": "markdown",
   "id": "ff157a01",
   "metadata": {},
   "source": [
    "call create_content function"
   ]
  },
  {
   "cell_type": "code",
   "execution_count": null,
   "id": "798e17d4",
   "metadata": {},
   "outputs": [],
   "source": [
    "#Marketing analyst input\n",
    "analyst_query = \"Hi, mr.CEO do you have time to hangout this weekend and have a best out of 15 bowling match? I have 2 lanes in my summer house on the other side of town. let me know if youre interested. Thanks\""
   ]
  },
  {
   "cell_type": "code",
   "execution_count": null,
   "id": "30bd11ca",
   "metadata": {},
   "outputs": [],
   "source": [
    "content = create_content(\n",
    "    query=analyst_query,\n",
    "    client=client,\n",
    "    system_prompt=system_prompt,\n",
    "    model=model,\n",
    "    temperature=temperature)"
   ]
  },
  {
   "cell_type": "code",
   "execution_count": null,
   "id": "99e22c97",
   "metadata": {},
   "outputs": [],
   "source": [
    "print(content)"
   ]
  }
 ],
 "metadata": {
  "kernelspec": {
   "display_name": ".venv",
   "language": "python",
   "name": "python3"
  },
  "language_info": {
   "codemirror_mode": {
    "name": "ipython",
    "version": 3
   },
   "file_extension": ".py",
   "mimetype": "text/x-python",
   "name": "python",
   "nbconvert_exporter": "python",
   "pygments_lexer": "ipython3",
   "version": "3.13.3"
  }
 },
 "nbformat": 4,
 "nbformat_minor": 5
}
