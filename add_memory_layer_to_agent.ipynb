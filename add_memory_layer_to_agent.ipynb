{
 "cells": [
  {
   "cell_type": "markdown",
   "id": "2ca4db8d",
   "metadata": {},
   "source": [
    "This script shows how to add a memory layer to our AI agent. This solves the inherent statelessness of Large Language Models (LLMs) by implementing a memory layer. By managing a conversation history, the agent can simulate remembering past interactions and provide coherent multi-turn conversations."
   ]
  },
  {
   "cell_type": "code",
   "execution_count": null,
   "id": "0ce97b43",
   "metadata": {},
   "outputs": [],
   "source": [
    "from openai import OpenAI\n",
    "from dotenv import load_dotenv\n",
    "import os"
   ]
  },
  {
   "cell_type": "code",
   "execution_count": null,
   "id": "4d9e8d63",
   "metadata": {},
   "outputs": [],
   "source": [
    "load_dotenv()"
   ]
  },
  {
   "cell_type": "code",
   "execution_count": null,
   "id": "cc692e3c",
   "metadata": {},
   "outputs": [],
   "source": [
    "client = OpenAI()"
   ]
  },
  {
   "cell_type": "code",
   "execution_count": null,
   "id": "fd3035ac",
   "metadata": {},
   "outputs": [],
   "source": [
    "user_message = \"what have i asked before?\""
   ]
  },
  {
   "cell_type": "code",
   "execution_count": null,
   "id": "15e29e37",
   "metadata": {},
   "outputs": [],
   "source": [
    "response = client.chat.completions.create(\n",
    "                model=\"gpt-4o-mini\",\n",
    "                messages=[\n",
    "                    {\"role\": \"system\", \"content\": \"Answer all questions.\"},\n",
    "                    {\"role\": \"user\", \"content\": user_message},\n",
    "                ],\n",
    "                temperature=0.4,\n",
    "        )\n",
    "response.choices[0].message.content"
   ]
  },
  {
   "cell_type": "code",
   "execution_count": null,
   "id": "e48a18be",
   "metadata": {},
   "outputs": [],
   "source": [
    "memory = [\n",
    "    {\"role\": \"system\", \"content\": \"Answer all questions\"},\n",
    "    {\"role\": \"user\", \"content\": \"whats an API?\"},\n",
    "]"
   ]
  },
  {
   "cell_type": "code",
   "execution_count": null,
   "id": "0d74f72e",
   "metadata": {},
   "outputs": [],
   "source": [
    "new_response = client.chat.completions.create(\n",
    "    model=\"gpt-4o-mini\",\n",
    "    messages=memory,\n",
    "    temperature=0.0,\n",
    ")\n",
    "\n",
    "memory.append(\n",
    "    {\"role\": \"assistant\", \"content\": new_response.choices[0].message.content}\n",
    ")\n",
    "\n",
    "memory"
   ]
  },
  {
   "cell_type": "code",
   "execution_count": null,
   "id": "03a3b3d4",
   "metadata": {},
   "outputs": [],
   "source": [
    "memory.append(\n",
    "    {\"role\": \"user\", \"content\": \"what have i asked?\"}\n",
    ")\n",
    "\n",
    "memory"
   ]
  },
  {
   "cell_type": "code",
   "execution_count": null,
   "id": "6024ad98",
   "metadata": {},
   "outputs": [],
   "source": [
    "new_response = client.chat.completions.create(\n",
    "    model=\"gpt-4o-mini\",\n",
    "    messages=memory,\n",
    "    temperature=0.0,\n",
    ")\n",
    "\n",
    "memory.append(\n",
    "    {\"role\": \"assistant\", \"content\": new_response.choices[0].message.content}\n",
    ")\n",
    "\n",
    "memory"
   ]
  },
  {
   "cell_type": "code",
   "execution_count": null,
   "id": "4d5a4418",
   "metadata": {},
   "outputs": [],
   "source": [
    "from typing import List, Dict, Literal"
   ]
  },
  {
   "cell_type": "code",
   "execution_count": null,
   "id": "99e15c0a",
   "metadata": {},
   "outputs": [],
   "source": [
    "class Memory:\n",
    "    def __init__(self):\n",
    "        self.messages: List[Dict[str, str]] = []\n",
    "\n",
    "    def add_message(self, role: Literal['user', 'system', 'assistant'], content: str):\n",
    "        self.messages.append({\n",
    "            \"role\": role,\n",
    "            \"content\": content\n",
    "        })\n",
    "    \n",
    "    def get_messages(self) -> List[Dict[str, str]]:\n",
    "        return self.messages"
   ]
  },
  {
   "cell_type": "code",
   "execution_count": null,
   "id": "98462ec2",
   "metadata": {},
   "outputs": [],
   "source": [
    "def chat(user_message:str=None, memory:Memory=None)->str:\n",
    "    messages = [{\"role\": \"user\", \"content\": user_message}]\n",
    "    if memory:\n",
    "        if user_message:\n",
    "            memory.add_message(role=\"user\", content=user_message)\n",
    "        messages = memory.get_messages()\n",
    "    \n",
    "    response = client.chat.completions.create(\n",
    "        model = \"gpt-4o-mini\",\n",
    "        temperature = 0.0,\n",
    "        messages = messages,\n",
    "    )\n",
    "\n",
    "    ai_message = response.choices[0].message.content\n",
    "    if memory:\n",
    "        memory.add_message(role=\"assistant\", content=ai_message)\n",
    "\n",
    "    return ai_message"
   ]
  },
  {
   "cell_type": "code",
   "execution_count": null,
   "id": "0fa8dd9c",
   "metadata": {},
   "outputs": [],
   "source": [
    "memory = Memory()"
   ]
  },
  {
   "cell_type": "code",
   "execution_count": null,
   "id": "92a1cf3f",
   "metadata": {},
   "outputs": [],
   "source": [
    "memory.add_message(role=\"system\", content=\"You're a helpful assistant\")"
   ]
  },
  {
   "cell_type": "code",
   "execution_count": null,
   "id": "52877e1d",
   "metadata": {},
   "outputs": [],
   "source": [
    "memory.get_messages()"
   ]
  },
  {
   "cell_type": "code",
   "execution_count": null,
   "id": "3ffabd58",
   "metadata": {},
   "outputs": [],
   "source": [
    "chat(\n",
    "    user_message = \"whats the capital of hawaii?\"\n",
    ")"
   ]
  },
  {
   "cell_type": "code",
   "execution_count": null,
   "id": "cc53d76e",
   "metadata": {},
   "outputs": [],
   "source": [
    "memory.get_messages()"
   ]
  },
  {
   "cell_type": "code",
   "execution_count": null,
   "id": "61a19b8b",
   "metadata": {},
   "outputs": [],
   "source": [
    "chat(\n",
    "    user_message = \"whats the capital of hawaii?\",\n",
    "    memory=memory\n",
    ")"
   ]
  },
  {
   "cell_type": "code",
   "execution_count": null,
   "id": "6f3c5a01",
   "metadata": {},
   "outputs": [],
   "source": [
    "chat(\n",
    "    user_message = \"what have i asked already?\",\n",
    "    memory=memory\n",
    ")"
   ]
  },
  {
   "cell_type": "code",
   "execution_count": null,
   "id": "40e9d539",
   "metadata": {},
   "outputs": [],
   "source": [
    "memory.get_messages()"
   ]
  }
 ],
 "metadata": {
  "kernelspec": {
   "display_name": ".venv",
   "language": "python",
   "name": "python3"
  },
  "language_info": {
   "codemirror_mode": {
    "name": "ipython",
    "version": 3
   },
   "file_extension": ".py",
   "mimetype": "text/x-python",
   "name": "python",
   "nbconvert_exporter": "python",
   "pygments_lexer": "ipython3",
   "version": "3.13.3"
  }
 },
 "nbformat": 4,
 "nbformat_minor": 5
}
