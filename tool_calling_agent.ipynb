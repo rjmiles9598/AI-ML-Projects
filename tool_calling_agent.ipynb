{
 "cells": [
  {
   "cell_type": "markdown",
   "id": "208a559c",
   "metadata": {},
   "source": [
    "Here we will enhance our agent by adding tool-calling capabilities, allowing it to interact with external functions dynamically\n",
    "\n",
    "Challenge:\n",
    "\n",
    "Build an AI agent that:\n",
    "\n",
    "    - Fecthes real-time stock prices\n",
    "    - Performs some complex calculations\n",
    "    - Queries a weeather API\n",
    "    - Searches a Database\n",
    "\n",
    "Instead of manually calling a function, our agent will automatically detect when a tool is needed and invoke it"
   ]
  },
  {
   "cell_type": "markdown",
   "id": "cc724be1",
   "metadata": {},
   "source": [
    "import all the necessary libraries"
   ]
  },
  {
   "cell_type": "code",
   "execution_count": 2,
   "id": "74aded8d",
   "metadata": {},
   "outputs": [],
   "source": [
    "import json\n",
    "import datetime\n",
    "import inspect\n",
    "import requests\n",
    "from typing import (TypedDict, List, Dict, Literal, Callable, Optional, Any, get_type_hints)\n",
    "from openai import OpenAI\n",
    "from openai.types.chat.chat_completion_message import ChatCompletionMessage\n",
    "from openai.types.chat.chat_completion_message_tool_call import ChatCompletionMessageToolCall"
   ]
  },
  {
   "cell_type": "markdown",
   "id": "fa0ea41e",
   "metadata": {},
   "source": [
    "Instantiate the OpenAI client with our environement variable openai API key"
   ]
  },
  {
   "cell_type": "code",
   "execution_count": 3,
   "id": "ef10a797",
   "metadata": {},
   "outputs": [],
   "source": [
    "from dotenv import load_dotenv\n",
    "load_dotenv()\n",
    "client = OpenAI()"
   ]
  },
  {
   "cell_type": "markdown",
   "id": "1b65d425",
   "metadata": {},
   "source": [
    "Recap our Memory & Function"
   ]
  },
  {
   "cell_type": "markdown",
   "id": "ce5ed66e",
   "metadata": {},
   "source": [
    "Combine memory with custom python functions to create the full cycle of tool calling, which enabled an LLM to interact with the world"
   ]
  },
  {
   "cell_type": "markdown",
   "id": "12a8d931",
   "metadata": {},
   "source": [
    "Class: a class is a blueprint for creating objects. An object is a self-contained unit of data and functionality. A class allows us to bundle related state and behavior under one name and then instantiate that blueprint to produce many independent objects with the same structure."
   ]
  },
  {
   "cell_type": "code",
   "execution_count": 4,
   "id": "c2125e93",
   "metadata": {},
   "outputs": [],
   "source": [
    "class Memory:\n",
    "    def __init__(self):\n",
    "        self._messages: List[Dict[str, str]] = []\n",
    "\n",
    "    def add_message(self, \n",
    "        role: Literal['user', 'system', 'assistant', 'tool'], \n",
    "        content: str,\n",
    "        tool_calls: dict=dict(),\n",
    "        tool_call_id=None)->None:\n",
    "\n",
    "        message = {\n",
    "            \"role\": role,\n",
    "            \"content\": content,\n",
    "            \"tool_calls\": tool_calls,\n",
    "        }\n",
    "\n",
    "        if role == \"tool\":\n",
    "            message = {\n",
    "                \"role\": role,\n",
    "                \"content\": content,\n",
    "                \"tool_call_id\": tool_call_id,\n",
    "            }\n",
    "\n",
    "        self._messages.append(message)\n",
    "    \n",
    "    def get_messages(self) -> List[Dict[str, str]]:\n",
    "        return self._messages\n",
    "    \n",
    "    def last_message(self) -> None:\n",
    "        if self._messages:\n",
    "            return self._messages[-1]\n",
    "\n",
    "    def reset(self) -> None:\n",
    "        self._messages = []"
   ]
  },
  {
   "cell_type": "code",
   "execution_count": 5,
   "id": "ea6fd360",
   "metadata": {},
   "outputs": [],
   "source": [
    "def chat_with_tools(user_question:str=None,\n",
    "        memory:Memory=None,\n",
    "        model:str=\"gpt-4o-mini\",\n",
    "        temperature=0.0,\n",
    "        tools=None)-> str:\n",
    "    messages = [{\"role\": \"user\", \"content\": user_question}]\n",
    "    if memory:\n",
    "        if user_question:\n",
    "            memory.add_message(role=\"user\", content=user_question)\n",
    "        messages = memory.get_messages()\n",
    "\n",
    "    response = client.chat.completions.create(\n",
    "        model = model,\n",
    "        temperature = temperature,\n",
    "        messages = messages,\n",
    "        tools = tools,\n",
    "    )\n",
    "\n",
    "    ai_message = str(response.choices[0].message.content)\n",
    "    tool_calls = response.choices[0].message.tool_calls\n",
    "\n",
    "    if memory:\n",
    "        memory.add_message(role=\"assistant\", content=ai_message, tool_calls=tool_calls)\n",
    "\n",
    "    return ai_message"
   ]
  },
  {
   "cell_type": "code",
   "execution_count": 6,
   "id": "0a413d25",
   "metadata": {},
   "outputs": [],
   "source": [
    "def power(base:float, exponent:float):\n",
    "    \"\"\"Exponentiation: base to the power of exponent\"\"\"\n",
    "    return base ** exponent"
   ]
  },
  {
   "cell_type": "code",
   "execution_count": 7,
   "id": "ce5ef3a7",
   "metadata": {},
   "outputs": [],
   "source": [
    "tools = [{\n",
    "    \"type\": \"function\",\n",
    "    \"function\": {\n",
    "        \"name\": \"power\",\n",
    "        \"description\": \"Exponentiation: base to the power of exponent\",\n",
    "        \"parameters\": {\n",
    "            \"type\": \"object\",\n",
    "            \"properties\": {\n",
    "                \"base\": {\"type\": \"number\"},\n",
    "                \"exponent\": {\"type\": \"number\"}\n",
    "            },\n",
    "            \"required\": [\"base\", \"exponent\"],\n",
    "            \"additionalProperties\": False\n",
    "        },\n",
    "        \"strict\": True\n",
    "    }\n",
    "}]"
   ]
  },
  {
   "cell_type": "markdown",
   "id": "ac3e2478",
   "metadata": {},
   "source": [
    "Next lets instantiate memory and run with the system prompt"
   ]
  },
  {
   "cell_type": "code",
   "execution_count": 8,
   "id": "c308f5d2",
   "metadata": {},
   "outputs": [],
   "source": [
    "memory = Memory()\n",
    "memory.add_message(role=\"system\", content=\"Youre a helpful assistant\")"
   ]
  },
  {
   "cell_type": "markdown",
   "id": "888f5d5a",
   "metadata": {},
   "source": [
    "Call the LLM with a question that needs a tool"
   ]
  },
  {
   "cell_type": "code",
   "execution_count": 9,
   "id": "8b797ac6",
   "metadata": {},
   "outputs": [],
   "source": [
    "ai_message = chat_with_tools(\n",
    "    \"what is 2 to the power of -5?\",\n",
    "    model=\"gpt-4o-mini\",\n",
    "    memory=memory,\n",
    "    tools=tools,\n",
    ")"
   ]
  },
  {
   "cell_type": "markdown",
   "id": "452b1b7a",
   "metadata": {},
   "source": [
    "Get the arguments from the tool_calls object and call the actual defined function"
   ]
  },
  {
   "cell_type": "code",
   "execution_count": 10,
   "id": "3bdf4feb",
   "metadata": {},
   "outputs": [],
   "source": [
    "args = json.loads(memory.last_message()['tool_calls'][0].function.arguments)\n",
    "result = power(args[\"base\"], args[\"exponent\"])"
   ]
  },
  {
   "cell_type": "markdown",
   "id": "717ca56d",
   "metadata": {},
   "source": [
    "Extract the tool_call_id and feed the LLM with the result from the function"
   ]
  },
  {
   "cell_type": "code",
   "execution_count": 11,
   "id": "ef3aa294",
   "metadata": {},
   "outputs": [],
   "source": [
    "tool_call_id = memory.last_message()['tool_calls'][0].id\n",
    "memory.add_message(role=\"tool\", content=str(result), tool_call_id=tool_call_id)\n",
    "ai_message = chat_with_tools(\n",
    "    model=\"gpt-4o-mini\",\n",
    "    tools=tools,\n",
    "    memory=memory,\n",
    ")"
   ]
  },
  {
   "cell_type": "code",
   "execution_count": 12,
   "id": "391fb540",
   "metadata": {},
   "outputs": [
    {
     "data": {
      "text/plain": [
       "[{'role': 'system', 'content': 'Youre a helpful assistant', 'tool_calls': {}},\n",
       " {'role': 'user',\n",
       "  'content': 'what is 2 to the power of -5?',\n",
       "  'tool_calls': {}},\n",
       " {'role': 'assistant',\n",
       "  'content': 'None',\n",
       "  'tool_calls': [ChatCompletionMessageToolCall(id='call_lGO2oNuWRzb5FXJaed7CTu26', function=Function(arguments='{\"base\":2,\"exponent\":-5}', name='power'), type='function')]},\n",
       " {'role': 'tool',\n",
       "  'content': '0.03125',\n",
       "  'tool_call_id': 'call_lGO2oNuWRzb5FXJaed7CTu26'},\n",
       " {'role': 'assistant',\n",
       "  'content': '\\\\( 2 \\\\) to the power of \\\\(-5\\\\) is \\\\( 0.03125 \\\\).',\n",
       "  'tool_calls': None}]"
      ]
     },
     "execution_count": 12,
     "metadata": {},
     "output_type": "execute_result"
    }
   ],
   "source": [
    "memory.get_messages()"
   ]
  },
  {
   "cell_type": "markdown",
   "id": "71599dfa",
   "metadata": {},
   "source": [
    "Now we will create our tool abstractions\n",
    "\n",
    "Currently the way we've built our tools is prone to errors.\n",
    "\n",
    "The task will be to create an abstraciton to make it easier to build a tool and call it\n",
    "\n",
    "Look at the JSON schema we made for the power tool and think about the other following tools:\n",
    "\n",
    "The tool class should at least have the following methods\n",
    "\n",
    "    - __init__() : receiving the function and some logic to extract docs, arguments and their types\n",
    "    - dict() : to return the JSON schema\n",
    "    - __call__() : this enables the object that gets instantiated to be callable\n",
    "\n",
    "\n",
    "More hints:\n",
    "-by using get_type_hints(power)\n",
    "    - if we run this we will get an output of the needed types of data to pass\n",
    "-inspect.signature()\n",
    "    -"
   ]
  },
  {
   "cell_type": "code",
   "execution_count": 26,
   "id": "10ef4a28",
   "metadata": {},
   "outputs": [],
   "source": [
    "class Tool:\n",
    "    def __init__(self, func:Callable):\n",
    "        self.func = func\n",
    "        self.name = func.__name__\n",
    "        self.description = func.__doc__\n",
    "        self.arguments_types_map = get_type_hints(func)\n",
    "        self.signature = inspect.signature(func)\n",
    "        self.arguments = [\n",
    "            {\n",
    "                \"name\": key,\n",
    "                \"type\":self._infer_json_schema_type(value),\n",
    "                \"required\": param.default == inspect.Parameter.empty\n",
    "            }\n",
    "            for key, value in self.arguments_types_map.items()\n",
    "            if (param := self.signature.parameters.get(key))\n",
    "        ]\n",
    "    def _infer_json_schema_type(self, arg_type: Any) -> str:\n",
    "        if arg_type == bool:\n",
    "            return \"boolean\"\n",
    "        elif arg_type == int:\n",
    "            return \"integer\"\n",
    "        elif arg_type == float:\n",
    "            return \"number\"\n",
    "        elif arg_type == str:\n",
    "            return \"string\"\n",
    "        elif arg_type == list:\n",
    "            return \"array\"\n",
    "        elif arg_type == dict:\n",
    "            return \"object\"\n",
    "        elif arg_type == None:\n",
    "            return \"Null\"\n",
    "        elif arg_type == datetime.date or arg_type == datetime.datetime:\n",
    "            return \"string\"\n",
    "        else:\n",
    "            return \"string\"\n",
    "\n",
    "        \n",
    "    def dict(self):\n",
    "        return{\n",
    "            \"type\": \"function\",\n",
    "            \"function\": {\n",
    "                \"name\": self.name,\n",
    "                \"description\": self.description,\n",
    "                \"parallel_tool_calls\": False,\n",
    "                \"parameters\": {\n",
    "                    \"type\": \"object\",\n",
    "                    \"properties\": {\n",
    "                        argument[\"name\"]: {\n",
    "                            \"type\": argument[\"type\"],\n",
    "                        }\n",
    "                        for argument in self.arguments\n",
    "                    },\n",
    "                    \"required\": [\n",
    "                        argument[\"name\"]\n",
    "                        for argument in self.arguments\n",
    "                        if argument[\"required\"]\n",
    "                    ],\n",
    "                    \"additionalProperties\": False\n",
    "                },\n",
    "                \"strict\": True\n",
    "            }\n",
    "        }\n",
    "    def __call__ (self, *args, **kwargs):\n",
    "        return self.func(*args, **kwargs)\n"
   ]
  },
  {
   "cell_type": "markdown",
   "id": "99da5e79",
   "metadata": {},
   "source": [
    "Lets recreate our power function to see if it works with our tool"
   ]
  },
  {
   "cell_type": "code",
   "execution_count": 27,
   "id": "e8cfbec6",
   "metadata": {},
   "outputs": [],
   "source": [
    "def power(base:float, exponent:float):\n",
    "    \"\"\"Exponentiation: base to the power of exponent\"\"\"\n",
    "    return base ** exponent"
   ]
  },
  {
   "cell_type": "code",
   "execution_count": 28,
   "id": "9e40cf4e",
   "metadata": {},
   "outputs": [],
   "source": [
    "power_tool = Tool(power)"
   ]
  },
  {
   "cell_type": "code",
   "execution_count": 29,
   "id": "c3b379c0",
   "metadata": {},
   "outputs": [
    {
     "data": {
      "text/plain": [
       "{'type': 'function',\n",
       " 'function': {'name': 'power',\n",
       "  'description': 'Exponentiation: base to the power of exponent',\n",
       "  'parallel_tool_calls': False,\n",
       "  'parameters': {'type': 'object',\n",
       "   'properties': {'base': {'type': 'number'}, 'exponent': {'type': 'number'}},\n",
       "   'required': ['base', 'exponent'],\n",
       "   'additionalProperties': False},\n",
       "  'strict': True}}"
      ]
     },
     "execution_count": 29,
     "metadata": {},
     "output_type": "execute_result"
    }
   ],
   "source": [
    "power_tool.dict()"
   ]
  },
  {
   "cell_type": "code",
   "execution_count": 30,
   "id": "263907c1",
   "metadata": {},
   "outputs": [
    {
     "data": {
      "text/plain": [
       "8"
      ]
     },
     "execution_count": 30,
     "metadata": {},
     "output_type": "execute_result"
    }
   ],
   "source": [
    "power_tool(2,3)"
   ]
  },
  {
   "cell_type": "code",
   "execution_count": 32,
   "id": "c50d83e0",
   "metadata": {},
   "outputs": [],
   "source": [
    "class Agent:\n",
    "    \"\"\" A Tool calling AI agent \"\"\"\n",
    "\n",
    "    def __init__ (\n",
    "        self,\n",
    "        name:str = \"Agent\",\n",
    "        role:str = \"Personal Assistant\",\n",
    "        instructions:str = \"Help users with any questions\",\n",
    "        model:str = \"gpt-4o-mini\",\n",
    "        temperature:float = 0.0,\n",
    "        tools:List[Tool] = [],\n",
    "    ):\n",
    "        self.name = name\n",
    "        self.role = role\n",
    "        self.instructions = instructions\n",
    "        self.model = model\n",
    "        self.temperature = temperature\n",
    "        self.memory = Memory()\n",
    "        self.memory.add_message(\n",
    "            role=\"system\",\n",
    "            content=f\"You're an AI agent your role is {self.role}, \"\n",
    "                    f\"and you need to {self.instructions}.\",\n",
    "        )\n",
    "\n",
    "        self.client = OpenAI()\n",
    "\n",
    "\n",
    "        self.tools = tools\n",
    "        self.tool_map = {t.name:t for t in tools}\n",
    "        self.openai_tools = [t.dict() for t in self.tools] if self.tools else None\n",
    "    \n",
    "\n",
    "    def invoke(self, user_message: str) -> str:\n",
    "        self.memory.add_message(\n",
    "            role=\"user\",\n",
    "            content=user_message\n",
    "        )\n",
    "\n",
    "        ai_message = self._get_completion(\n",
    "            messages = self.memory.get_messages(),\n",
    "        )\n",
    "\n",
    "        tool_calls = ai_message.tool_calls\n",
    "        self.memory.add_message(\n",
    "            role= \"assistant\",\n",
    "            content=ai_message.content,\n",
    "            tool_calls = tool_calls,\n",
    "        )\n",
    "\n",
    "        if tool_calls:\n",
    "            self._call_tools(tool_calls)\n",
    "\n",
    "        return self.memory.last_message()\n",
    "\n",
    "\n",
    "    def _call_tools(self, tool_calls:List[ChatCompletionMessageToolCall]):\n",
    "        for t in tool_calls:\n",
    "            tool_call_id = t.id\n",
    "            function_name = t.function.name\n",
    "            args = json.loads(t.function.arguments)\n",
    "            callable_tool = self.tool_map[function_name]\n",
    "            result = callable_tool(**args)\n",
    "            self.memory.add_message(\n",
    "                role=\"tool\",\n",
    "                content=str(result),\n",
    "                tool_call_id=tool_call_id\n",
    "            )\n",
    "        \n",
    "        ai_message = self._get_completion(\n",
    "            messages = self.memory.get_messages(),\n",
    "        )\n",
    "\n",
    "        tool_calls = ai_message.tool_calls\n",
    "\n",
    "        self.memory.add_message(\n",
    "            role=\"assistant\",\n",
    "            content=ai_message.content,\n",
    "            tool_calls = tool_calls,\n",
    "        )\n",
    "\n",
    "        if tool_calls:\n",
    "            self.call_tools(tool_calls)\n",
    "\n",
    "\n",
    "    def _get_completion(self, messages:List[Dict])-> ChatCompletionMessage:\n",
    "        response = self.client.chat.completions.create(\n",
    "            model = self.model,\n",
    "            temperature = self.temperature,\n",
    "            messages = messages,\n",
    "            tools = self.openai_tools,\n",
    "        )\n",
    "\n",
    "        return response.choices[0].message"
   ]
  },
  {
   "cell_type": "markdown",
   "id": "4022830a",
   "metadata": {},
   "source": [
    "BUILD SOME AGENTS NOW   "
   ]
  },
  {
   "cell_type": "code",
   "execution_count": 35,
   "id": "3eefaaf7",
   "metadata": {},
   "outputs": [],
   "source": [
    "agent = Agent(\n",
    "    tools = [Tool(power)]\n",
    ")"
   ]
  },
  {
   "cell_type": "code",
   "execution_count": 36,
   "id": "38749bb3",
   "metadata": {},
   "outputs": [
    {
     "data": {
      "text/plain": [
       "{'role': 'assistant',\n",
       " 'content': 'Nine to the power of two is 81.',\n",
       " 'tool_calls': None}"
      ]
     },
     "execution_count": 36,
     "metadata": {},
     "output_type": "execute_result"
    }
   ],
   "source": [
    "agent.invoke(\"what is nine to the power of two?\")"
   ]
  },
  {
   "cell_type": "code",
   "execution_count": 37,
   "id": "17ac2cfe",
   "metadata": {},
   "outputs": [
    {
     "data": {
      "text/plain": [
       "{'role': 'assistant', 'content': 'Six plus seven is 13.', 'tool_calls': None}"
      ]
     },
     "execution_count": 37,
     "metadata": {},
     "output_type": "execute_result"
    }
   ],
   "source": [
    "agent.invoke(\"what is six + seven?\")"
   ]
  },
  {
   "cell_type": "code",
   "execution_count": 39,
   "id": "487671d7",
   "metadata": {},
   "outputs": [
    {
     "data": {
      "text/plain": [
       "{'role': 'assistant',\n",
       " 'content': 'Two to the power of negative five is 0.03125.',\n",
       " 'tool_calls': None}"
      ]
     },
     "execution_count": 39,
     "metadata": {},
     "output_type": "execute_result"
    }
   ],
   "source": [
    "agent.invoke(\"what is 2 to the power of -5?\")"
   ]
  },
  {
   "cell_type": "code",
   "execution_count": 38,
   "id": "e65ce69a",
   "metadata": {},
   "outputs": [
    {
     "data": {
      "text/plain": [
       "{'role': 'assistant',\n",
       " 'content': 'Ten to the power of three is 1000.',\n",
       " 'tool_calls': None}"
      ]
     },
     "execution_count": 38,
     "metadata": {},
     "output_type": "execute_result"
    }
   ],
   "source": [
    "agent.invoke(\"what is 10 to the 3?\")"
   ]
  },
  {
   "cell_type": "code",
   "execution_count": 40,
   "id": "59c0209f",
   "metadata": {},
   "outputs": [
    {
     "data": {
      "text/plain": [
       "[{'role': 'system',\n",
       "  'content': \"You're an AI agent your role is Personal Assistant, and you need to Help users with any questions.\",\n",
       "  'tool_calls': {}},\n",
       " {'role': 'user',\n",
       "  'content': 'what is nine to the power of two?',\n",
       "  'tool_calls': {}},\n",
       " {'role': 'assistant',\n",
       "  'content': None,\n",
       "  'tool_calls': [ChatCompletionMessageToolCall(id='call_9GxNNIvAyAeJ8HIdFQykw3cI', function=Function(arguments='{\"base\":9,\"exponent\":2}', name='power'), type='function')]},\n",
       " {'role': 'tool',\n",
       "  'content': '81',\n",
       "  'tool_call_id': 'call_9GxNNIvAyAeJ8HIdFQykw3cI'},\n",
       " {'role': 'assistant',\n",
       "  'content': 'Nine to the power of two is 81.',\n",
       "  'tool_calls': None},\n",
       " {'role': 'user', 'content': 'what is six + seven?', 'tool_calls': {}},\n",
       " {'role': 'assistant', 'content': 'Six plus seven is 13.', 'tool_calls': None},\n",
       " {'role': 'user', 'content': 'what is 10 to the 3?', 'tool_calls': {}},\n",
       " {'role': 'assistant',\n",
       "  'content': None,\n",
       "  'tool_calls': [ChatCompletionMessageToolCall(id='call_IPMwcGTdxqJDbH3lzcbaZBWz', function=Function(arguments='{\"base\":10,\"exponent\":3}', name='power'), type='function')]},\n",
       " {'role': 'tool',\n",
       "  'content': '1000',\n",
       "  'tool_call_id': 'call_IPMwcGTdxqJDbH3lzcbaZBWz'},\n",
       " {'role': 'assistant',\n",
       "  'content': 'Ten to the power of three is 1000.',\n",
       "  'tool_calls': None},\n",
       " {'role': 'user',\n",
       "  'content': 'what is 2 to the power of -5?',\n",
       "  'tool_calls': {}},\n",
       " {'role': 'assistant',\n",
       "  'content': None,\n",
       "  'tool_calls': [ChatCompletionMessageToolCall(id='call_WY3F8IkTYU6B2Hy5aBQUIU7F', function=Function(arguments='{\"base\":2,\"exponent\":-5}', name='power'), type='function')]},\n",
       " {'role': 'tool',\n",
       "  'content': '0.03125',\n",
       "  'tool_call_id': 'call_WY3F8IkTYU6B2Hy5aBQUIU7F'},\n",
       " {'role': 'assistant',\n",
       "  'content': 'Two to the power of negative five is 0.03125.',\n",
       "  'tool_calls': None}]"
      ]
     },
     "execution_count": 40,
     "metadata": {},
     "output_type": "execute_result"
    }
   ],
   "source": [
    "agent.memory.get_messages()"
   ]
  },
  {
   "cell_type": "markdown",
   "id": "f981f22a",
   "metadata": {},
   "source": [
    "Explanation:\n",
    "\n"
   ]
  },
  {
   "cell_type": "code",
   "execution_count": 41,
   "id": "581a2dd0",
   "metadata": {},
   "outputs": [],
   "source": [
    "agent.memory.reset()"
   ]
  },
  {
   "cell_type": "code",
   "execution_count": 42,
   "id": "59846587",
   "metadata": {},
   "outputs": [
    {
     "data": {
      "text/plain": [
       "[]"
      ]
     },
     "execution_count": 42,
     "metadata": {},
     "output_type": "execute_result"
    }
   ],
   "source": [
    "agent.memory.get_messages()"
   ]
  },
  {
   "cell_type": "code",
   "execution_count": 43,
   "id": "de29dcba",
   "metadata": {},
   "outputs": [
    {
     "data": {
      "text/plain": [
       "{'role': 'assistant',\n",
       " 'content': '10 to the power of 1 is 10.',\n",
       " 'tool_calls': None}"
      ]
     },
     "execution_count": 43,
     "metadata": {},
     "output_type": "execute_result"
    }
   ],
   "source": [
    "agent.invoke(\"what is 10 to the 1?\")"
   ]
  },
  {
   "cell_type": "code",
   "execution_count": 44,
   "id": "5769e736",
   "metadata": {},
   "outputs": [
    {
     "data": {
      "text/plain": [
       "[{'role': 'user', 'content': 'what is 10 to the 1?', 'tool_calls': {}},\n",
       " {'role': 'assistant',\n",
       "  'content': None,\n",
       "  'tool_calls': [ChatCompletionMessageToolCall(id='call_jleNNXtm4CixKJQMcQXdYTpD', function=Function(arguments='{\"base\":10,\"exponent\":1}', name='power'), type='function')]},\n",
       " {'role': 'tool',\n",
       "  'content': '10',\n",
       "  'tool_call_id': 'call_jleNNXtm4CixKJQMcQXdYTpD'},\n",
       " {'role': 'assistant',\n",
       "  'content': '10 to the power of 1 is 10.',\n",
       "  'tool_calls': None}]"
      ]
     },
     "execution_count": 44,
     "metadata": {},
     "output_type": "execute_result"
    }
   ],
   "source": [
    "agent.memory.get_messages()"
   ]
  },
  {
   "cell_type": "code",
   "execution_count": 45,
   "id": "d73d3983",
   "metadata": {},
   "outputs": [],
   "source": [
    "agent.memory.reset()"
   ]
  },
  {
   "cell_type": "code",
   "execution_count": 46,
   "id": "0fa2e9fa",
   "metadata": {},
   "outputs": [
    {
     "data": {
      "text/plain": [
       "[]"
      ]
     },
     "execution_count": 46,
     "metadata": {},
     "output_type": "execute_result"
    }
   ],
   "source": [
    "agent.memory.get_messages()"
   ]
  },
  {
   "cell_type": "code",
   "execution_count": 47,
   "id": "1cf428b3",
   "metadata": {},
   "outputs": [
    {
     "data": {
      "text/plain": [
       "{'role': 'assistant',\n",
       " 'content': '\\\\( 6.75 \\\\) to the power of \\\\(-5\\\\) is approximately \\\\( 0.00007136432064128647 \\\\) or \\\\( 7.14 \\\\times 10^{-5} \\\\).',\n",
       " 'tool_calls': None}"
      ]
     },
     "execution_count": 47,
     "metadata": {},
     "output_type": "execute_result"
    }
   ],
   "source": [
    "agent.invoke(\"what is 6.75 to the power of -5?\")"
   ]
  },
  {
   "cell_type": "code",
   "execution_count": 48,
   "id": "1510f078",
   "metadata": {},
   "outputs": [
    {
     "data": {
      "text/plain": [
       "[{'role': 'user',\n",
       "  'content': 'what is 6.75 to the power of -5?',\n",
       "  'tool_calls': {}},\n",
       " {'role': 'assistant',\n",
       "  'content': None,\n",
       "  'tool_calls': [ChatCompletionMessageToolCall(id='call_2IHUNKTg5s7hwWn3YSNNZgjt', function=Function(arguments='{\"base\":6.75,\"exponent\":-5}', name='power'), type='function')]},\n",
       " {'role': 'tool',\n",
       "  'content': '7.136432064128647e-05',\n",
       "  'tool_call_id': 'call_2IHUNKTg5s7hwWn3YSNNZgjt'},\n",
       " {'role': 'assistant',\n",
       "  'content': '\\\\( 6.75 \\\\) to the power of \\\\(-5\\\\) is approximately \\\\( 0.00007136432064128647 \\\\) or \\\\( 7.14 \\\\times 10^{-5} \\\\).',\n",
       "  'tool_calls': None}]"
      ]
     },
     "execution_count": 48,
     "metadata": {},
     "output_type": "execute_result"
    }
   ],
   "source": [
    "agent.memory.get_messages()"
   ]
  },
  {
   "cell_type": "code",
   "execution_count": null,
   "id": "2e4dd13d",
   "metadata": {},
   "outputs": [],
   "source": []
  }
 ],
 "metadata": {
  "kernelspec": {
   "display_name": ".venv",
   "language": "python",
   "name": "python3"
  },
  "language_info": {
   "codemirror_mode": {
    "name": "ipython",
    "version": 3
   },
   "file_extension": ".py",
   "mimetype": "text/x-python",
   "name": "python",
   "nbconvert_exporter": "python",
   "pygments_lexer": "ipython3",
   "version": "3.13.3"
  }
 },
 "nbformat": 4,
 "nbformat_minor": 5
}
